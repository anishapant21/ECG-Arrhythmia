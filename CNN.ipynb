{
 "cells": [
  {
   "cell_type": "code",
   "execution_count": 1,
   "id": "a2d88dff",
   "metadata": {},
   "outputs": [],
   "source": [
    "# import the necessary modules\n",
    "import pandas as pd\n",
    "import numpy as np\n",
    "import os\n",
    "#waveform-database:A library of tools for reading, writing, and processing WFDB signals and annotations.\n",
    "import wfdb \n",
    "\n",
    "%matplotlib inline\n",
    "import matplotlib as mlp\n",
    "import matplotlib.pyplot as plt\n",
    "\n",
    "mlp.rc(\"xtick\",labelsize=12)\n",
    "mlp.rc(\"ytick\",labelsize=12)\n",
    "mlp.rc(\"axes\",labelsize=14)\n",
    "\n",
    "MAIN_PATH = \"/home/moon/gitWorkspace/MachineLearning/ECG-Arrythmia\"\n",
    "DATA_PATH = \"/home/moon/gitWorkspace/MachineLearning/ECG-Arrythmia/mit-database\"\n",
    "FIG_PATH=\"/home/moon/gitWorkspace/MachineLearning/ECG-Arrythmia\"\n",
    "FIGURE_PATH = os.path.join(FIG_PATH,\"saved_figures\")\n",
    "os.makedirs(\"saved_figures\",exist_ok=True)\n",
    "os.chdir(DATA_PATH)\n",
    "\n",
    "#a function to save plotted figures\n",
    "def save_fig(fig_id, tight_layout=True, fig_extension=\"png\", resolution=300):\n",
    "    path = os.path.join(FIGURE_PATH, fig_id + \".\" + fig_extension)\n",
    "    print(\"Saving figure\", fig_id)\n",
    "    if tight_layout:\n",
    "        plt.tight_layout()\n",
    "    plt.savefig(path, format=fig_extension, dpi=resolution)\n"
   ]
  },
  {
   "cell_type": "code",
   "execution_count": 2,
   "id": "efb3aaa1",
   "metadata": {},
   "outputs": [],
   "source": [
    "sample = wfdb.io.rdsamp(\"100\")\n"
   ]
  },
  {
   "cell_type": "code",
   "execution_count": 3,
   "id": "b9124b4c",
   "metadata": {},
   "outputs": [],
   "source": [
    "sample_MLII = sample[0][:,0]\n",
    "sample_V5 = sample[0][:,1]\n"
   ]
  },
  {
   "cell_type": "markdown",
   "id": "be98cb70",
   "metadata": {},
   "source": [
    " ## Importing and Preparing Data"
   ]
  },
  {
   "cell_type": "code",
   "execution_count": 4,
   "id": "1c0c4944",
   "metadata": {},
   "outputs": [
    {
     "name": "stdout",
     "output_type": "stream",
     "text": [
      "['100' '101' '102' '103' '104' '105' '106' '107' '108' '109' '111' '112'\n",
      " '113' '114' '115' '116' '117' '118' '119' '121' '122' '123' '124' '200'\n",
      " '201' '202' '203' '205' '207' '208' '209' '210' '212' '213' '214' '215'\n",
      " '217' '219' '220' '221' '222' '223' '228' '230' '231' '232' '233' '234']\n",
      "48\n"
     ]
    }
   ],
   "source": [
    "# RECORDS file contains all the record names of the corresponding patients\n",
    "records = np.loadtxt(os.path.join(DATA_PATH,\"RECORDS\"), dtype=str)\n",
    "print(records)\n",
    "print(len(records))"
   ]
  },
  {
   "cell_type": "code",
   "execution_count": 5,
   "id": "00b2ddf6",
   "metadata": {},
   "outputs": [],
   "source": [
    "def read_data():\n",
    "    dataset = []\n",
    "    for record in records:\n",
    "        temp = wfdb.rdrecord(record)\n",
    "        dataset.append(temp.p_signal)\n",
    "    return dataset"
   ]
  },
  {
   "cell_type": "code",
   "execution_count": 6,
   "id": "6997e7d2",
   "metadata": {},
   "outputs": [],
   "source": [
    "dataset = read_data()\n"
   ]
  },
  {
   "cell_type": "markdown",
   "id": "203aaaeb",
   "metadata": {},
   "source": [
    "## Valid and Invalid beats "
   ]
  },
  {
   "cell_type": "code",
   "execution_count": 7,
   "id": "225a2b55",
   "metadata": {},
   "outputs": [],
   "source": [
    "invalid_beat = [\n",
    "    \"[\", \"!\", \"]\", \"x\", \"(\", \")\", \"p\", \"t\", \n",
    "    \"u\", \"`\", \"'\", \"^\", \"|\", \"~\", \"+\", \"s\", \n",
    "    \"T\", \"*\", \"D\", \"=\",'\"', \"@\", \"B\", \"a\", \"J\", \"S\",\n",
    "    \"r\", \"F\", \"e\", \"j\", \"n\", \"f\", \"Q\", \"?\"\n",
    "]\n",
    "\n",
    "label_beats=[\n",
    "    \"A\", \"L\", \"/\", \"V\", \"R\", \"E\", \"N\"\n",
    "]"
   ]
  },
  {
   "cell_type": "markdown",
   "id": "847b63dc",
   "metadata": {},
   "source": [
    "## Beat Segmentation"
   ]
  },
  {
   "cell_type": "code",
   "execution_count": 8,
   "id": "231b5d01",
   "metadata": {},
   "outputs": [],
   "source": [
    "def classify(symbol):\n",
    "    if symbol in label_beats:\n",
    "        return 1\n",
    "    else:\n",
    "        return 0\n",
    "    \n",
    "def segment(signal_MLII, beat_loc):\n",
    "    window=180\n",
    "    count=1\n",
    "    x=beat_loc-window\n",
    "    y=beat_loc+window\n",
    "    samp=signal_MLII[x:y]\n",
    "    return samp\n",
    "\n",
    "all_signals=[]\n",
    "all_labels=[]\n",
    "for record in records:\n",
    "    temp=wfdb.rdrecord(record)\n",
    "    annot_temp=wfdb.rdann(record, 'atr')\n",
    "    ann_sample=annot_temp.sample\n",
    "    ann_symbol=annot_temp.symbol\n",
    "    fs=temp.fs\n",
    "    signal=temp.p_signal\n",
    "    signal_MLII=signal[:,0]\n",
    "    for i, i_sample in enumerate(ann_sample):\n",
    "        label_dec=classify(ann_symbol[i])\n",
    "        segmentation=segment(signal_MLII, i_sample)\n",
    "        if label_dec==1 and len(segmentation)==360:\n",
    "            all_signals.append(segmentation)\n",
    "            all_labels.append(ann_symbol[i])\n"
   ]
  },
  {
   "cell_type": "code",
   "execution_count": 9,
   "id": "e909853f",
   "metadata": {},
   "outputs": [],
   "source": [
    "# vstack Stacks arrays in sequence vertically (row wise).\n",
    "all_signals_fin=np.vstack(all_signals)"
   ]
  },
  {
   "cell_type": "code",
   "execution_count": 10,
   "id": "5b3d5572",
   "metadata": {},
   "outputs": [
    {
     "name": "stdout",
     "output_type": "stream",
     "text": [
      "(107141, 360)\n"
     ]
    }
   ],
   "source": [
    "print(all_signals_fin.shape)"
   ]
  },
  {
   "cell_type": "markdown",
   "id": "f0efd812",
   "metadata": {},
   "source": [
    "## Visualizing Segmentated Data"
   ]
  },
  {
   "cell_type": "code",
   "execution_count": 11,
   "id": "865d1c68",
   "metadata": {},
   "outputs": [],
   "source": [
    "labels_fin=pd.Series(all_labels)"
   ]
  },
  {
   "cell_type": "markdown",
   "id": "a3f2230c",
   "metadata": {},
   "source": [
    "## Check distribution of types of data"
   ]
  },
  {
   "cell_type": "code",
   "execution_count": 12,
   "id": "b412d551",
   "metadata": {},
   "outputs": [
    {
     "data": {
      "text/plain": [
       "N    75011\n",
       "L     8071\n",
       "R     7255\n",
       "V     7129\n",
       "/     7023\n",
       "A     2546\n",
       "E      106\n",
       "dtype: int64"
      ]
     },
     "execution_count": 12,
     "metadata": {},
     "output_type": "execute_result"
    }
   ],
   "source": [
    "labels_fin.value_counts()"
   ]
  },
  {
   "cell_type": "markdown",
   "id": "4ed0ac88",
   "metadata": {},
   "source": [
    "## Resampling"
   ]
  },
  {
   "cell_type": "code",
   "execution_count": 13,
   "id": "9ea51794",
   "metadata": {},
   "outputs": [],
   "source": [
    "len(all_signals_fin)\n",
    "labels_array=np.array(all_labels)"
   ]
  },
  {
   "cell_type": "code",
   "execution_count": 14,
   "id": "4f5d7334",
   "metadata": {},
   "outputs": [
    {
     "name": "stdout",
     "output_type": "stream",
     "text": [
      "7023\n",
      "['/' '/' '/' ... '/' '/' '/']\n"
     ]
    },
    {
     "data": {
      "text/plain": [
       "7023"
      ]
     },
     "execution_count": 14,
     "metadata": {},
     "output_type": "execute_result"
    }
   ],
   "source": [
    "df_0=all_signals_fin[labels_fin=='/']\n",
    "df_1=all_signals_fin[labels_fin=='A']\n",
    "df_2=all_signals_fin[labels_fin=='E']\n",
    "df_3=all_signals_fin[labels_fin=='L']\n",
    "df_4=all_signals_fin[labels_fin=='N']\n",
    "df_5=all_signals_fin[labels_fin=='R']\n",
    "df_6=all_signals_fin[labels_fin=='V']\n",
    "y_df0=labels_array[labels_fin=='/']\n",
    "print(len(df_0))\n",
    "print(y_df0)\n",
    "len(y_df0)"
   ]
  },
  {
   "cell_type": "code",
   "execution_count": 15,
   "id": "1ccc2673",
   "metadata": {},
   "outputs": [],
   "source": [
    "from sklearn.utils import resample"
   ]
  },
  {
   "cell_type": "code",
   "execution_count": 16,
   "id": "dd6c824e",
   "metadata": {},
   "outputs": [],
   "source": [
    "df0_sampled=resample(df_0, replace=True, n_samples=20000, random_state=42)\n",
    "df1_sampled=resample(df_1, replace=True, n_samples=20000, random_state=42)\n",
    "df2_sampled=resample(df_2, replace=True, n_samples=20000, random_state=42)\n",
    "df3_sampled=resample(df_3, replace=True, n_samples=20000, random_state=42)\n",
    "df4_sampled=resample(df_4, replace=True, n_samples=20000, random_state=42)\n",
    "df5_sampled=resample(df_5, replace=True, n_samples=20000, random_state=42)\n",
    "df6_sampled=resample(df_6, replace=True, n_samples=20000, random_state=42)\n"
   ]
  },
  {
   "cell_type": "code",
   "execution_count": 17,
   "id": "fe60a220",
   "metadata": {},
   "outputs": [],
   "source": [
    "y_0=['/']*len(df0_sampled)\n",
    "y_1=['A']*len(df1_sampled)\n",
    "y_2=['E']*len(df2_sampled)\n",
    "y_3=['L']*len(df3_sampled)\n",
    "y_4=['N']*len(df4_sampled)\n",
    "y_5=['R']*len(df5_sampled)\n",
    "y_6=['V']*len(df6_sampled)\n",
    "    "
   ]
  },
  {
   "cell_type": "code",
   "execution_count": 18,
   "id": "7727b198",
   "metadata": {},
   "outputs": [],
   "source": [
    "X_final=[]\n",
    "X_final.extend(df0_sampled)\n",
    "X_final.extend(df1_sampled)\n",
    "X_final.extend(df2_sampled)\n",
    "X_final.extend(df3_sampled)\n",
    "X_final.extend(df4_sampled)\n",
    "X_final.extend(df5_sampled)\n",
    "X_final.extend(df6_sampled)"
   ]
  },
  {
   "cell_type": "code",
   "execution_count": 19,
   "id": "26422851",
   "metadata": {},
   "outputs": [],
   "source": [
    "y_final=[]\n",
    "y_final.extend(y_0)\n",
    "y_final.extend(y_1)\n",
    "y_final.extend(y_2)\n",
    "y_final.extend(y_3)\n",
    "y_final.extend(y_4)\n",
    "y_final.extend(y_5)\n",
    "y_final.extend(y_6)"
   ]
  },
  {
   "cell_type": "markdown",
   "id": "e77b8ef7",
   "metadata": {},
   "source": [
    "## Standarization of the data"
   ]
  },
  {
   "cell_type": "code",
   "execution_count": 20,
   "id": "c68fa330",
   "metadata": {},
   "outputs": [],
   "source": [
    "from sklearn.preprocessing import StandardScaler\n",
    "scaler=StandardScaler()"
   ]
  },
  {
   "cell_type": "code",
   "execution_count": 21,
   "id": "3600ed59",
   "metadata": {},
   "outputs": [],
   "source": [
    "scaled=scaler.fit_transform(X_final)"
   ]
  },
  {
   "cell_type": "code",
   "execution_count": 22,
   "id": "212e0a6e",
   "metadata": {},
   "outputs": [],
   "source": [
    "def check_strat(y):\n",
    "    dummy = pd.DataFrame(y,columns=[\"Labels\"])\n",
    "    print(\"Value distribution:\\n\")\n",
    "    count = dummy[\"Labels\"].value_counts()\n",
    "    percent = dummy[\"Labels\"].value_counts(normalize=True).mul(100).round(2)\n",
    "    print(pd.concat([count,percent],axis=1,keys=[\"Counts\",\"Percent\"]))"
   ]
  },
  {
   "cell_type": "markdown",
   "id": "52444d91",
   "metadata": {},
   "source": [
    "## Splitting Data into Train and Test Set"
   ]
  },
  {
   "cell_type": "code",
   "execution_count": 23,
   "id": "6ef17a6a",
   "metadata": {},
   "outputs": [],
   "source": [
    "from sklearn.model_selection import StratifiedShuffleSplit\n",
    "strad=StratifiedShuffleSplit()"
   ]
  },
  {
   "cell_type": "code",
   "execution_count": 24,
   "id": "7baf952c",
   "metadata": {},
   "outputs": [],
   "source": [
    "assin_strad=strad.split(scaled, y_final)"
   ]
  },
  {
   "cell_type": "code",
   "execution_count": 25,
   "id": "1a030a6e",
   "metadata": {},
   "outputs": [],
   "source": [
    "train_index, test_index=next(assin_strad)"
   ]
  },
  {
   "cell_type": "code",
   "execution_count": 26,
   "id": "9bb5f863",
   "metadata": {},
   "outputs": [],
   "source": [
    "train_data_scaled=scaled[train_index]"
   ]
  },
  {
   "cell_type": "code",
   "execution_count": 27,
   "id": "c6fc760e",
   "metadata": {},
   "outputs": [],
   "source": [
    "from sklearn.preprocessing import LabelEncoder\n",
    "lab=LabelEncoder()"
   ]
  },
  {
   "cell_type": "code",
   "execution_count": 28,
   "id": "7828e06e",
   "metadata": {},
   "outputs": [],
   "source": [
    "labels_final=lab.fit_transform(y_final)"
   ]
  },
  {
   "cell_type": "code",
   "execution_count": 29,
   "id": "1cb7daa4",
   "metadata": {},
   "outputs": [
    {
     "data": {
      "text/plain": [
       "array(['/', 'A', 'E', 'L', 'N', 'R', 'V'], dtype='<U1')"
      ]
     },
     "execution_count": 29,
     "metadata": {},
     "output_type": "execute_result"
    }
   ],
   "source": [
    "lab.classes_"
   ]
  },
  {
   "cell_type": "code",
   "execution_count": 30,
   "id": "05c1cf12",
   "metadata": {},
   "outputs": [],
   "source": [
    "train_label=labels_final[train_index]"
   ]
  },
  {
   "cell_type": "code",
   "execution_count": 31,
   "id": "47c4fc38",
   "metadata": {},
   "outputs": [],
   "source": [
    "assin_val=strad.split(train_data_scaled, train_label)"
   ]
  },
  {
   "cell_type": "code",
   "execution_count": 32,
   "id": "dd97cf9a",
   "metadata": {},
   "outputs": [],
   "source": [
    "train_index_fin, val_index=next(assin_val)"
   ]
  },
  {
   "cell_type": "code",
   "execution_count": 33,
   "id": "429ce70a",
   "metadata": {},
   "outputs": [],
   "source": [
    "X_val=train_data_scaled[val_index]"
   ]
  },
  {
   "cell_type": "code",
   "execution_count": 34,
   "id": "c93ce3c6",
   "metadata": {},
   "outputs": [],
   "source": [
    "train_data_scaled_fin=train_data_scaled[train_index_fin]"
   ]
  },
  {
   "cell_type": "code",
   "execution_count": 35,
   "id": "76bd0e77",
   "metadata": {},
   "outputs": [],
   "source": [
    "train_labels_fin=train_label[train_index_fin]"
   ]
  },
  {
   "cell_type": "code",
   "execution_count": 36,
   "id": "7647e180",
   "metadata": {},
   "outputs": [],
   "source": [
    "y_val=train_label[val_index]"
   ]
  },
  {
   "cell_type": "code",
   "execution_count": 37,
   "id": "6141db95",
   "metadata": {},
   "outputs": [],
   "source": [
    "test_data_scaled=scaled[test_index]"
   ]
  },
  {
   "cell_type": "code",
   "execution_count": 38,
   "id": "f7aa83b8",
   "metadata": {},
   "outputs": [],
   "source": [
    "test_labels=labels_final[test_index]"
   ]
  },
  {
   "cell_type": "code",
   "execution_count": 39,
   "id": "ddf91a0b",
   "metadata": {},
   "outputs": [
    {
     "name": "stdout",
     "output_type": "stream",
     "text": [
      "Value distribution:\n",
      "\n",
      "   Counts  Percent\n",
      "0    2000    14.29\n",
      "1    2000    14.29\n",
      "2    2000    14.29\n",
      "3    2000    14.29\n",
      "4    2000    14.29\n",
      "5    2000    14.29\n",
      "6    2000    14.29\n"
     ]
    }
   ],
   "source": [
    "check_strat(test_labels)"
   ]
  },
  {
   "cell_type": "code",
   "execution_count": 40,
   "id": "48d83487",
   "metadata": {},
   "outputs": [
    {
     "name": "stdout",
     "output_type": "stream",
     "text": [
      "Value distribution:\n",
      "\n",
      "   Counts  Percent\n",
      "0   18000    14.29\n",
      "1   18000    14.29\n",
      "2   18000    14.29\n",
      "3   18000    14.29\n",
      "4   18000    14.29\n",
      "5   18000    14.29\n",
      "6   18000    14.29\n"
     ]
    }
   ],
   "source": [
    "check_strat(train_label)"
   ]
  },
  {
   "cell_type": "code",
   "execution_count": 41,
   "id": "6e9f52e0",
   "metadata": {},
   "outputs": [
    {
     "name": "stdout",
     "output_type": "stream",
     "text": [
      "Value distribution:\n",
      "\n",
      "   Counts  Percent\n",
      "0    1800    14.29\n",
      "1    1800    14.29\n",
      "2    1800    14.29\n",
      "3    1800    14.29\n",
      "4    1800    14.29\n",
      "5    1800    14.29\n",
      "6    1800    14.29\n"
     ]
    }
   ],
   "source": [
    "check_strat(y_val)"
   ]
  },
  {
   "cell_type": "markdown",
   "id": "81df1e92",
   "metadata": {},
   "source": [
    "# CNN\n"
   ]
  },
  {
   "cell_type": "code",
   "execution_count": 42,
   "id": "e9d5e7fe",
   "metadata": {},
   "outputs": [],
   "source": [
    "import os\n",
    "MODEL_PATH = os.path.join(FIG_PATH,\"saved_models\")\n",
    "os.makedirs(\"saved_models\",exist_ok=True)\n",
    "\n",
    "import pickle\n",
    "\n",
    "# a function to save trained models in pickle object\n",
    "def save_model(name,model,extension=\".pickle\"):\n",
    "    path = os.path.join(MODEL_PATH,name+extension)\n",
    "    print(\"Saving Model : \",name)\n",
    "    file = open(path,\"wb\")\n",
    "    pickle.dump(model,file)\n",
    "    file.close()"
   ]
  },
  {
   "cell_type": "code",
   "execution_count": 43,
   "id": "74dc4d7e",
   "metadata": {},
   "outputs": [
    {
     "name": "stderr",
     "output_type": "stream",
     "text": [
      "2021-08-05 17:29:55.351489: W tensorflow/stream_executor/platform/default/dso_loader.cc:64] Could not load dynamic library 'libcudart.so.11.0'; dlerror: libcudart.so.11.0: cannot open shared object file: No such file or directory\n",
      "2021-08-05 17:29:55.351508: I tensorflow/stream_executor/cuda/cudart_stub.cc:29] Ignore above cudart dlerror if you do not have a GPU set up on your machine.\n"
     ]
    }
   ],
   "source": [
    "from tensorflow import keras\n",
    "CNN_X_train=train_data_scaled_fin.reshape(len(train_data_scaled_fin), len(train_data_scaled_fin[0]), 1)\n",
    "CNN_val=X_val.reshape(len(X_val), len(X_val[0]), 1)\n"
   ]
  },
  {
   "cell_type": "code",
   "execution_count": 44,
   "id": "05649880",
   "metadata": {},
   "outputs": [
    {
     "name": "stderr",
     "output_type": "stream",
     "text": [
      "2021-08-05 17:30:17.601706: W tensorflow/stream_executor/platform/default/dso_loader.cc:64] Could not load dynamic library 'libcuda.so.1'; dlerror: libcuda.so.1: cannot open shared object file: No such file or directory\n",
      "2021-08-05 17:30:17.601744: W tensorflow/stream_executor/cuda/cuda_driver.cc:326] failed call to cuInit: UNKNOWN ERROR (303)\n",
      "2021-08-05 17:30:17.601773: I tensorflow/stream_executor/cuda/cuda_diagnostics.cc:156] kernel driver does not appear to be running on this host (ann): /proc/driver/nvidia/version does not exist\n",
      "2021-08-05 17:30:17.602084: I tensorflow/core/platform/cpu_feature_guard.cc:142] This TensorFlow binary is optimized with oneAPI Deep Neural Network Library (oneDNN) to use the following CPU instructions in performance-critical operations:  AVX2 AVX512F FMA\n",
      "To enable them in other operations, rebuild TensorFlow with the appropriate compiler flags.\n",
      "/home/moon/.local/lib/python3.8/site-packages/tensorflow/python/keras/optimizer_v2/optimizer_v2.py:374: UserWarning: The `lr` argument is deprecated, use `learning_rate` instead.\n",
      "  warnings.warn(\n"
     ]
    },
    {
     "name": "stdout",
     "output_type": "stream",
     "text": [
      "Model: \"sequential\"\n",
      "_________________________________________________________________\n",
      "Layer (type)                 Output Shape              Param #   \n",
      "=================================================================\n",
      "conv1d (Conv1D)              (None, 358, 64)           256       \n",
      "_________________________________________________________________\n",
      "max_pooling1d (MaxPooling1D) (None, 179, 64)           0         \n",
      "_________________________________________________________________\n",
      "conv1d_1 (Conv1D)            (None, 177, 32)           6176      \n",
      "_________________________________________________________________\n",
      "max_pooling1d_1 (MaxPooling1 (None, 88, 32)            0         \n",
      "_________________________________________________________________\n",
      "flatten (Flatten)            (None, 2816)              0         \n",
      "_________________________________________________________________\n",
      "dense (Dense)                (None, 100)               281700    \n",
      "_________________________________________________________________\n",
      "dense_1 (Dense)              (None, 7)                 707       \n",
      "=================================================================\n",
      "Total params: 288,839\n",
      "Trainable params: 288,839\n",
      "Non-trainable params: 0\n",
      "_________________________________________________________________\n"
     ]
    },
    {
     "name": "stderr",
     "output_type": "stream",
     "text": [
      "2021-08-05 17:30:18.037916: I tensorflow/compiler/mlir/mlir_graph_optimization_pass.cc:176] None of the MLIR Optimization Passes are enabled (registered 2)\n",
      "2021-08-05 17:30:18.059762: I tensorflow/core/platform/profile_utils/cpu_utils.cc:114] CPU Frequency: 1689600000 Hz\n"
     ]
    },
    {
     "name": "stdout",
     "output_type": "stream",
     "text": [
      "Epoch 1/25\n",
      "2268/2268 [==============================] - 38s 16ms/step - loss: 0.3093 - accuracy: 0.9117 - val_loss: 0.1188 - val_accuracy: 0.9663\n",
      "Epoch 2/25\n",
      "2268/2268 [==============================] - 38s 17ms/step - loss: 0.1079 - accuracy: 0.9695 - val_loss: 0.0858 - val_accuracy: 0.9787\n",
      "Epoch 3/25\n",
      "2268/2268 [==============================] - 37s 16ms/step - loss: 0.0776 - accuracy: 0.9778 - val_loss: 0.0716 - val_accuracy: 0.9803\n",
      "Epoch 4/25\n",
      "2268/2268 [==============================] - 37s 17ms/step - loss: 0.0630 - accuracy: 0.9822 - val_loss: 0.0598 - val_accuracy: 0.9856\n",
      "Epoch 5/25\n",
      "2268/2268 [==============================] - 37s 16ms/step - loss: 0.0527 - accuracy: 0.9852 - val_loss: 0.0702 - val_accuracy: 0.9827\n",
      "Epoch 6/25\n",
      "2268/2268 [==============================] - 38s 17ms/step - loss: 0.0457 - accuracy: 0.9870 - val_loss: 0.0519 - val_accuracy: 0.9863\n",
      "Epoch 7/25\n",
      "2268/2268 [==============================] - 38s 17ms/step - loss: 0.0394 - accuracy: 0.9888 - val_loss: 0.0403 - val_accuracy: 0.9910\n",
      "Epoch 8/25\n",
      "2268/2268 [==============================] - 38s 17ms/step - loss: 0.0368 - accuracy: 0.9897 - val_loss: 0.0563 - val_accuracy: 0.9874\n",
      "Epoch 9/25\n",
      "2268/2268 [==============================] - 37s 17ms/step - loss: 0.0336 - accuracy: 0.9909 - val_loss: 0.0400 - val_accuracy: 0.9894\n",
      "Epoch 10/25\n",
      "2268/2268 [==============================] - 37s 16ms/step - loss: 0.0289 - accuracy: 0.9919 - val_loss: 0.0335 - val_accuracy: 0.9918\n",
      "Epoch 11/25\n",
      "2268/2268 [==============================] - 38s 17ms/step - loss: 0.0260 - accuracy: 0.9928 - val_loss: 0.0307 - val_accuracy: 0.9940\n",
      "Epoch 12/25\n",
      "2268/2268 [==============================] - 37s 16ms/step - loss: 0.0242 - accuracy: 0.9934 - val_loss: 0.0323 - val_accuracy: 0.9934\n",
      "Epoch 13/25\n",
      "2268/2268 [==============================] - 37s 17ms/step - loss: 0.0222 - accuracy: 0.9940 - val_loss: 0.0358 - val_accuracy: 0.9929\n",
      "Epoch 14/25\n",
      "2268/2268 [==============================] - 38s 17ms/step - loss: 0.0190 - accuracy: 0.9950 - val_loss: 0.0303 - val_accuracy: 0.9937\n",
      "Epoch 15/25\n",
      "2268/2268 [==============================] - 37s 16ms/step - loss: 0.0190 - accuracy: 0.9949 - val_loss: 0.0284 - val_accuracy: 0.9938\n",
      "Epoch 16/25\n",
      "2268/2268 [==============================] - 38s 17ms/step - loss: 0.0171 - accuracy: 0.9954 - val_loss: 0.0280 - val_accuracy: 0.9951\n",
      "Epoch 17/25\n",
      "2268/2268 [==============================] - 38s 17ms/step - loss: 0.0152 - accuracy: 0.9964 - val_loss: 0.0233 - val_accuracy: 0.9954\n",
      "Epoch 18/25\n",
      "2268/2268 [==============================] - 36s 16ms/step - loss: 0.0152 - accuracy: 0.9963 - val_loss: 0.0263 - val_accuracy: 0.9951\n",
      "Epoch 19/25\n",
      "2268/2268 [==============================] - 36s 16ms/step - loss: 0.0133 - accuracy: 0.9966 - val_loss: 0.0242 - val_accuracy: 0.9958\n",
      "Epoch 20/25\n",
      "2268/2268 [==============================] - 37s 16ms/step - loss: 0.0126 - accuracy: 0.9971 - val_loss: 0.0264 - val_accuracy: 0.9958\n",
      "Epoch 21/25\n",
      "2268/2268 [==============================] - 36s 16ms/step - loss: 0.0117 - accuracy: 0.9974 - val_loss: 0.0366 - val_accuracy: 0.9931\n",
      "Epoch 22/25\n",
      "2268/2268 [==============================] - 36s 16ms/step - loss: 0.0108 - accuracy: 0.9976 - val_loss: 0.0260 - val_accuracy: 0.9955\n",
      "Epoch 23/25\n",
      "2268/2268 [==============================] - 32s 14ms/step - loss: 0.0098 - accuracy: 0.9980 - val_loss: 0.0195 - val_accuracy: 0.9960\n",
      "Epoch 24/25\n",
      "2268/2268 [==============================] - 33s 15ms/step - loss: 0.0088 - accuracy: 0.9980 - val_loss: 0.0220 - val_accuracy: 0.9960\n",
      "Epoch 25/25\n",
      "2268/2268 [==============================] - 31s 14ms/step - loss: 0.0101 - accuracy: 0.9980 - val_loss: 0.0214 - val_accuracy: 0.9960\n"
     ]
    }
   ],
   "source": [
    "#def CNN_Classifier(X_train, y_train, X_test, y_test):\n",
    "    \n",
    "\n",
    "CNN_model = keras.Sequential()\n",
    "CNN_model.add(keras.layers.Conv1D(64,kernel_size=3,input_shape=(360,1),activation=\"relu\"))\n",
    "CNN_model.add(keras.layers.MaxPool1D(pool_size=2))\n",
    "CNN_model.add(keras.layers.Conv1D(filters=32,kernel_size=3,activation=\"relu\"))\n",
    "CNN_model.add(keras.layers.MaxPool1D(pool_size=2))\n",
    "CNN_model.add(keras.layers.Flatten())\n",
    "CNN_model.add(keras.layers.Dense(100,activation=\"relu\"))\n",
    "CNN_model.add(keras.layers.Dense(7,activation=\"softmax\"))\n",
    "loss=keras.losses.SparseCategoricalCrossentropy(from_logits=False)\n",
    "opt=keras.optimizers.Adam(lr=0.0001)\n",
    "CNN_model.compile(loss=loss, optimizer=opt, metrics=['accuracy'])\n",
    "CNN_model.summary()\n",
    "    #X_train=X_train.reshape(len(X_train), len(X_train[0]), 1)\n",
    "    #X_test=X_test.reshape(len(X_test), len(X_test[0]), 1)\n",
    "history=CNN_model.fit(CNN_X_train, train_labels_fin, epochs=25, batch_size=50, validation_data=(CNN_val, y_val))\n",
    "    #max_val_acc=max(history.history['accuracy'])\n",
    "    \n",
    "    #return CNN_model.evaluate(X_test, y_test)[1]"
   ]
  },
  {
   "cell_type": "code",
   "execution_count": 45,
   "id": "a90e464a",
   "metadata": {},
   "outputs": [
    {
     "name": "stderr",
     "output_type": "stream",
     "text": [
      "/home/moon/.local/lib/python3.8/site-packages/tensorflow/python/keras/engine/sequential.py:455: UserWarning: `model.predict_classes()` is deprecated and will be removed after 2021-01-01. Please use instead:* `np.argmax(model.predict(x), axis=-1)`,   if your model does multi-class classification   (e.g. if it uses a `softmax` last-layer activation).* `(model.predict(x) > 0.5).astype(\"int32\")`,   if your model does binary classification   (e.g. if it uses a `sigmoid` last-layer activation).\n",
      "  warnings.warn('`model.predict_classes()` is deprecated and '\n"
     ]
    }
   ],
   "source": [
    "cnn_prediction = CNN_model.predict_classes(CNN_X_train)"
   ]
  },
  {
   "cell_type": "code",
   "execution_count": 46,
   "id": "6f147901",
   "metadata": {},
   "outputs": [
    {
     "data": {
      "text/plain": [
       "array([[-0.97539726],\n",
       "       [-0.98010043],\n",
       "       [-0.96508511],\n",
       "       [-0.97103048],\n",
       "       [-0.96730948],\n",
       "       [-0.95337551],\n",
       "       [-0.94940223],\n",
       "       [-0.95536214],\n",
       "       [-0.96117884],\n",
       "       [-0.98827934],\n",
       "       [-1.00615669],\n",
       "       [-1.02589844],\n",
       "       [-1.05716442],\n",
       "       [-1.05447685],\n",
       "       [-1.04010362],\n",
       "       [-1.03693001],\n",
       "       [-1.05788588],\n",
       "       [-1.03376843],\n",
       "       [-1.0569993 ],\n",
       "       [-1.06728947],\n",
       "       [-1.05193735],\n",
       "       [-1.09636502],\n",
       "       [-1.08905121],\n",
       "       [-1.11897313],\n",
       "       [-1.10948465],\n",
       "       [-1.09872274],\n",
       "       [-1.09959558],\n",
       "       [-1.08522865],\n",
       "       [-1.08258919],\n",
       "       [-1.04062554],\n",
       "       [-1.05030912],\n",
       "       [-1.04811701],\n",
       "       [-1.03246393],\n",
       "       [-1.04255001],\n",
       "       [-1.0645488 ],\n",
       "       [-1.04790026],\n",
       "       [-1.0562636 ],\n",
       "       [-1.06640986],\n",
       "       [-1.0400016 ],\n",
       "       [-1.04251477],\n",
       "       [-1.03291229],\n",
       "       [-1.03679995],\n",
       "       [-1.0144592 ],\n",
       "       [-1.05998594],\n",
       "       [-1.02183697],\n",
       "       [-1.06609222],\n",
       "       [-1.05279038],\n",
       "       [-1.08223478],\n",
       "       [-1.06835925],\n",
       "       [-1.0533892 ],\n",
       "       [-1.05351676],\n",
       "       [-1.04010048],\n",
       "       [-1.02791066],\n",
       "       [-1.04660752],\n",
       "       [-0.9892712 ],\n",
       "       [-1.02367286],\n",
       "       [-1.01153104],\n",
       "       [-1.02965112],\n",
       "       [-1.07945102],\n",
       "       [-1.09753591],\n",
       "       [-1.11478256],\n",
       "       [-1.08444338],\n",
       "       [-1.14940628],\n",
       "       [-1.10179313],\n",
       "       [-1.06862839],\n",
       "       [-1.08445129],\n",
       "       [-1.05347769],\n",
       "       [-1.03879076],\n",
       "       [-1.07376966],\n",
       "       [-1.07506438],\n",
       "       [-1.11004774],\n",
       "       [-1.09707059],\n",
       "       [-1.13236507],\n",
       "       [-1.11870662],\n",
       "       [-1.12190955],\n",
       "       [-1.09227611],\n",
       "       [-1.07887616],\n",
       "       [-1.09859424],\n",
       "       [-1.08464216],\n",
       "       [-1.08816003],\n",
       "       [-1.09193068],\n",
       "       [-1.09613607],\n",
       "       [-1.13410673],\n",
       "       [-1.17231209],\n",
       "       [-1.17644656],\n",
       "       [-1.26510076],\n",
       "       [-1.21657089],\n",
       "       [-1.18580422],\n",
       "       [-1.17166952],\n",
       "       [-1.17728282],\n",
       "       [-1.09742845],\n",
       "       [-1.10313165],\n",
       "       [-1.14336472],\n",
       "       [-1.20137428],\n",
       "       [-1.20835176],\n",
       "       [-1.2329879 ],\n",
       "       [-1.24050584],\n",
       "       [-1.21201738],\n",
       "       [-1.22015273],\n",
       "       [-1.22751242],\n",
       "       [-1.19961626],\n",
       "       [-1.11775389],\n",
       "       [-1.08835059],\n",
       "       [-1.09508375],\n",
       "       [-1.08360066],\n",
       "       [-1.12669653],\n",
       "       [-1.14993522],\n",
       "       [-1.15336154],\n",
       "       [-1.17335498],\n",
       "       [-1.19319702],\n",
       "       [-1.17517422],\n",
       "       [-1.10089399],\n",
       "       [-1.10302076],\n",
       "       [-1.04967269],\n",
       "       [-0.95910391],\n",
       "       [-0.98220075],\n",
       "       [-0.95011691],\n",
       "       [-1.03238872],\n",
       "       [-1.03760562],\n",
       "       [-1.09857486],\n",
       "       [-1.06045724],\n",
       "       [-1.07618077],\n",
       "       [-1.07238882],\n",
       "       [-1.06650798],\n",
       "       [-1.04195898],\n",
       "       [-1.07498171],\n",
       "       [-1.09003638],\n",
       "       [-1.08889918],\n",
       "       [-1.10635345],\n",
       "       [-1.1407607 ],\n",
       "       [-1.11766589],\n",
       "       [-1.01831948],\n",
       "       [-1.02850353],\n",
       "       [-0.94518219],\n",
       "       [-0.89835341],\n",
       "       [-0.85033518],\n",
       "       [-0.8387545 ],\n",
       "       [-0.90019551],\n",
       "       [-0.90569639],\n",
       "       [-0.93053684],\n",
       "       [-1.01037209],\n",
       "       [-1.09207631],\n",
       "       [-1.13959058],\n",
       "       [-1.17015916],\n",
       "       [-1.18361221],\n",
       "       [-1.17905849],\n",
       "       [-1.19383216],\n",
       "       [-1.13687451],\n",
       "       [-1.15304793],\n",
       "       [-1.11552789],\n",
       "       [-1.09705269],\n",
       "       [-1.11457495],\n",
       "       [-1.18307724],\n",
       "       [-1.19999117],\n",
       "       [-1.26833477],\n",
       "       [-1.30439248],\n",
       "       [-1.22846696],\n",
       "       [-1.0445331 ],\n",
       "       [-0.77171291],\n",
       "       [-0.41457162],\n",
       "       [-0.13656074],\n",
       "       [ 0.12191655],\n",
       "       [ 0.2435182 ],\n",
       "       [ 0.13485686],\n",
       "       [-0.09649693],\n",
       "       [-0.52214442],\n",
       "       [-0.95152681],\n",
       "       [-1.26402737],\n",
       "       [-1.30974328],\n",
       "       [-1.10499481],\n",
       "       [-0.68920953],\n",
       "       [-0.21658538],\n",
       "       [ 0.22521358],\n",
       "       [ 0.58448429],\n",
       "       [ 0.80852683],\n",
       "       [ 0.89836759],\n",
       "       [ 0.9235407 ],\n",
       "       [ 0.90499406],\n",
       "       [ 0.83644688],\n",
       "       [ 0.75672149],\n",
       "       [ 0.69889022],\n",
       "       [ 0.6480255 ],\n",
       "       [ 0.6425221 ],\n",
       "       [ 0.67745662],\n",
       "       [ 0.70064161],\n",
       "       [ 0.69287946],\n",
       "       [ 0.61522786],\n",
       "       [ 0.49849186],\n",
       "       [ 0.32324685],\n",
       "       [ 0.08514339],\n",
       "       [-0.16028538],\n",
       "       [-0.418929  ],\n",
       "       [-0.61926682],\n",
       "       [-0.73900155],\n",
       "       [-0.78656861],\n",
       "       [-0.77553257],\n",
       "       [-0.71414682],\n",
       "       [-0.62559076],\n",
       "       [-0.54775253],\n",
       "       [-0.50405174],\n",
       "       [-0.47096146],\n",
       "       [-0.43139063],\n",
       "       [-0.42566145],\n",
       "       [-0.42102843],\n",
       "       [-0.41001348],\n",
       "       [-0.38502794],\n",
       "       [-0.3808106 ],\n",
       "       [-0.38077287],\n",
       "       [-0.40281245],\n",
       "       [-0.43669043],\n",
       "       [-0.45044077],\n",
       "       [-0.46145772],\n",
       "       [-0.44989524],\n",
       "       [-0.47564366],\n",
       "       [-0.46821337],\n",
       "       [-0.47780565],\n",
       "       [-0.45747788],\n",
       "       [-0.46776812],\n",
       "       [-0.46355347],\n",
       "       [-0.47504786],\n",
       "       [-0.49380982],\n",
       "       [-0.51991788],\n",
       "       [-0.53103443],\n",
       "       [-0.56670569],\n",
       "       [-0.64976179],\n",
       "       [-0.67637108],\n",
       "       [-0.73455215],\n",
       "       [-0.77671444],\n",
       "       [-0.81291339],\n",
       "       [-0.89257101],\n",
       "       [-0.86824069],\n",
       "       [-0.8652979 ],\n",
       "       [-0.83540779],\n",
       "       [-0.84044822],\n",
       "       [-0.80731362],\n",
       "       [-0.86991783],\n",
       "       [-0.8725329 ],\n",
       "       [-0.91153471],\n",
       "       [-0.92731647],\n",
       "       [-0.95554707],\n",
       "       [-0.97186126],\n",
       "       [-0.96445533],\n",
       "       [-0.97968612],\n",
       "       [-0.99326712],\n",
       "       [-0.97259393],\n",
       "       [-0.97598896],\n",
       "       [-1.00101733],\n",
       "       [-1.00400568],\n",
       "       [-1.02842852],\n",
       "       [-1.04089785],\n",
       "       [-1.05278465],\n",
       "       [-1.05446012],\n",
       "       [-1.09879398],\n",
       "       [-1.12165847],\n",
       "       [-1.13348809],\n",
       "       [-1.11457147],\n",
       "       [-1.12645962],\n",
       "       [-1.09911532],\n",
       "       [-1.12293107],\n",
       "       [-1.12714478],\n",
       "       [-1.15206986],\n",
       "       [-1.16623664],\n",
       "       [-1.21050401],\n",
       "       [-1.22668618],\n",
       "       [-1.2332421 ],\n",
       "       [-1.26173161],\n",
       "       [-1.27968067],\n",
       "       [-1.28837424],\n",
       "       [-1.29818584],\n",
       "       [-1.2988651 ],\n",
       "       [-1.31005217],\n",
       "       [-1.34095706],\n",
       "       [-1.37280327],\n",
       "       [-1.40553994],\n",
       "       [-1.40901663],\n",
       "       [-1.44148683],\n",
       "       [-1.45438842],\n",
       "       [-1.49821496],\n",
       "       [-1.52266705],\n",
       "       [-1.51643922],\n",
       "       [-1.540037  ],\n",
       "       [-1.54403068],\n",
       "       [-1.55730823],\n",
       "       [-1.55114983],\n",
       "       [-1.5749501 ],\n",
       "       [-1.59776297],\n",
       "       [-1.6315798 ],\n",
       "       [-1.62509556],\n",
       "       [-1.62890162],\n",
       "       [-1.64204101],\n",
       "       [-1.64361375],\n",
       "       [-1.61337007],\n",
       "       [-1.60555071],\n",
       "       [-1.56583447],\n",
       "       [-1.52432405],\n",
       "       [-1.51385489],\n",
       "       [-1.50288404],\n",
       "       [-1.50194082],\n",
       "       [-1.49129301],\n",
       "       [-1.4787885 ],\n",
       "       [-1.454819  ],\n",
       "       [-1.43048247],\n",
       "       [-1.39356288],\n",
       "       [-1.40149256],\n",
       "       [-1.35295141],\n",
       "       [-1.29194659],\n",
       "       [-1.26368287],\n",
       "       [-1.21114093],\n",
       "       [-1.19201775],\n",
       "       [-1.17312246],\n",
       "       [-1.14184248],\n",
       "       [-1.15847796],\n",
       "       [-1.10182354],\n",
       "       [-1.11720057],\n",
       "       [-1.08289364],\n",
       "       [-1.03361538],\n",
       "       [-0.99657737],\n",
       "       [-0.98471764],\n",
       "       [-0.94403832],\n",
       "       [-0.96709523],\n",
       "       [-0.9773884 ],\n",
       "       [-0.97608524],\n",
       "       [-0.97719591],\n",
       "       [-1.01929982],\n",
       "       [-1.02048019],\n",
       "       [-1.06320414],\n",
       "       [-1.09126042],\n",
       "       [-1.10410714],\n",
       "       [-1.10234361],\n",
       "       [-1.12960091],\n",
       "       [-1.14117153],\n",
       "       [-1.15178763],\n",
       "       [-1.17810824],\n",
       "       [-1.21986508],\n",
       "       [-1.26213553],\n",
       "       [-1.30500387],\n",
       "       [-1.33279888],\n",
       "       [-1.34255262],\n",
       "       [-1.38075464],\n",
       "       [-1.37202138],\n",
       "       [-1.39472808],\n",
       "       [-1.3868248 ],\n",
       "       [-1.41147829],\n",
       "       [-1.4047178 ],\n",
       "       [-1.44259963],\n",
       "       [-1.46434333],\n",
       "       [-1.50384768],\n",
       "       [-1.5162616 ],\n",
       "       [-1.51478026],\n",
       "       [-1.54457681],\n",
       "       [-1.54246753],\n",
       "       [-1.52473472],\n",
       "       [-1.50786206],\n",
       "       [-1.50571146],\n",
       "       [-1.51839727],\n",
       "       [-1.5459736 ],\n",
       "       [-1.52847923],\n",
       "       [-1.52654376],\n",
       "       [-1.55267117],\n",
       "       [-1.57765141]])"
      ]
     },
     "execution_count": 46,
     "metadata": {},
     "output_type": "execute_result"
    }
   ],
   "source": [
    "CNN_X_train[1]"
   ]
  },
  {
   "cell_type": "code",
   "execution_count": 47,
   "id": "c66c6cee",
   "metadata": {},
   "outputs": [
    {
     "name": "stdout",
     "output_type": "stream",
     "text": [
      "[3 5 4 5 5 6 2 2 2 0]\n"
     ]
    }
   ],
   "source": [
    "print(cnn_prediction[0:10])"
   ]
  },
  {
   "cell_type": "code",
   "execution_count": null,
   "id": "a44d29c1",
   "metadata": {},
   "outputs": [],
   "source": []
  }
 ],
 "metadata": {
  "kernelspec": {
   "display_name": "Python 3 (ipykernel)",
   "language": "python",
   "name": "python3"
  },
  "language_info": {
   "codemirror_mode": {
    "name": "ipython",
    "version": 3
   },
   "file_extension": ".py",
   "mimetype": "text/x-python",
   "name": "python",
   "nbconvert_exporter": "python",
   "pygments_lexer": "ipython3",
   "version": "3.8.10"
  }
 },
 "nbformat": 4,
 "nbformat_minor": 5
}
