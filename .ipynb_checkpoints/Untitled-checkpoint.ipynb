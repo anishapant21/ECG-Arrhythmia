{
 "cells": [
  {
   "cell_type": "code",
   "execution_count": 1,
   "id": "a2d88dff",
   "metadata": {},
   "outputs": [],
   "source": [
    "# import the necessary modules\n",
    "import pandas as pd\n",
    "import numpy as np\n",
    "import os\n",
    "#waveform-database:A library of tools for reading, writing, and processing WFDB signals and annotations.\n",
    "import wfdb \n",
    "\n",
    "%matplotlib inline\n",
    "import matplotlib as mlp\n",
    "import matplotlib.pyplot as plt\n",
    "\n",
    "mlp.rc(\"xtick\",labelsize=12)\n",
    "mlp.rc(\"ytick\",labelsize=12)\n",
    "mlp.rc(\"axes\",labelsize=14)\n",
    "\n",
    "MAIN_PATH = \"/home/moon/gitWorkspace/MachineLearning/ECG-Arrythmia\"\n",
    "DATA_PATH = \"/home/moon/gitWorkspace/MachineLearning/ECG-Arrythmia/mit-database\"\n",
    "FIG_PATH=\"/home/moon/gitWorkspace/MachineLearning/ECG-Arrythmia\"\n",
    "FIGURE_PATH = os.path.join(FIG_PATH,\"saved_figures\")\n",
    "os.makedirs(\"saved_figures\",exist_ok=True)\n",
    "os.chdir(DATA_PATH)\n",
    "\n",
    "#a function to save plotted figures\n",
    "def save_fig(fig_id, tight_layout=True, fig_extension=\"png\", resolution=300):\n",
    "    path = os.path.join(FIGURE_PATH, fig_id + \".\" + fig_extension)\n",
    "    print(\"Saving figure\", fig_id)\n",
    "    if tight_layout:\n",
    "        plt.tight_layout()\n",
    "    plt.savefig(path, format=fig_extension, dpi=resolution)\n"
   ]
  },
  {
   "cell_type": "code",
   "execution_count": 2,
   "id": "efb3aaa1",
   "metadata": {},
   "outputs": [],
   "source": [
    "sample = wfdb.io.rdsamp(\"100\")\n"
   ]
  },
  {
   "cell_type": "code",
   "execution_count": 3,
   "id": "b9124b4c",
   "metadata": {},
   "outputs": [],
   "source": [
    "sample_MLII = sample[0][:,0]\n",
    "sample_V5 = sample[0][:,1]\n"
   ]
  },
  {
   "cell_type": "markdown",
   "id": "be98cb70",
   "metadata": {},
   "source": [
    " ## Importing and Preparing Data"
   ]
  },
  {
   "cell_type": "code",
   "execution_count": 4,
   "id": "1c0c4944",
   "metadata": {},
   "outputs": [
    {
     "name": "stdout",
     "output_type": "stream",
     "text": [
      "['100' '101' '102' '103' '104' '105' '106' '107' '108' '109' '111' '112'\n",
      " '113' '114' '115' '116' '117' '118' '119' '121' '122' '123' '124' '200'\n",
      " '201' '202' '203' '205' '207' '208' '209' '210' '212' '213' '214' '215'\n",
      " '217' '219' '220' '221' '222' '223' '228' '230' '231' '232' '233' '234']\n",
      "48\n"
     ]
    }
   ],
   "source": [
    "# RECORDS file contains all the record names of the corresponding patients\n",
    "records = np.loadtxt(os.path.join(DATA_PATH,\"RECORDS\"), dtype=str)\n",
    "print(records)\n",
    "print(len(records))"
   ]
  },
  {
   "cell_type": "code",
   "execution_count": 5,
   "id": "00b2ddf6",
   "metadata": {},
   "outputs": [],
   "source": [
    "def read_data():\n",
    "    dataset = []\n",
    "    for record in records:\n",
    "        temp = wfdb.rdrecord(record)\n",
    "        dataset.append(temp.p_signal)\n",
    "    return dataset"
   ]
  },
  {
   "cell_type": "code",
   "execution_count": 6,
   "id": "6997e7d2",
   "metadata": {},
   "outputs": [],
   "source": [
    "dataset = read_data()\n"
   ]
  },
  {
   "cell_type": "markdown",
   "id": "203aaaeb",
   "metadata": {},
   "source": [
    "## Valid and Invalid beats "
   ]
  },
  {
   "cell_type": "code",
   "execution_count": 7,
   "id": "225a2b55",
   "metadata": {},
   "outputs": [],
   "source": [
    "invalid_beat = [\n",
    "    \"[\", \"!\", \"]\", \"x\", \"(\", \")\", \"p\", \"t\", \n",
    "    \"u\", \"`\", \"'\", \"^\", \"|\", \"~\", \"+\", \"s\", \n",
    "    \"T\", \"*\", \"D\", \"=\",'\"', \"@\", \"B\", \"a\", \"J\", \"S\",\n",
    "    \"r\", \"F\", \"e\", \"j\", \"n\", \"f\", \"Q\", \"?\"\n",
    "]\n",
    "\n",
    "label_beats=[\n",
    "    \"A\", \"L\", \"/\", \"V\", \"R\", \"E\", \"N\"\n",
    "]"
   ]
  },
  {
   "cell_type": "markdown",
   "id": "847b63dc",
   "metadata": {},
   "source": [
    "## Beat Segmentation"
   ]
  },
  {
   "cell_type": "code",
   "execution_count": 8,
   "id": "231b5d01",
   "metadata": {},
   "outputs": [],
   "source": [
    "def classify(symbol):\n",
    "    if symbol in label_beats:\n",
    "        return 1\n",
    "    else:\n",
    "        return 0\n",
    "    \n",
    "def segment(signal_MLII, beat_loc):\n",
    "    window=180\n",
    "    count=1\n",
    "    x=beat_loc-window\n",
    "    y=beat_loc+window\n",
    "    samp=signal_MLII[x:y]\n",
    "    return samp\n",
    "\n",
    "all_signals=[]\n",
    "all_labels=[]\n",
    "for record in records:\n",
    "    temp=wfdb.rdrecord(record)\n",
    "    annot_temp=wfdb.rdann(record, 'atr')\n",
    "    ann_sample=annot_temp.sample\n",
    "    ann_symbol=annot_temp.symbol\n",
    "    fs=temp.fs\n",
    "    signal=temp.p_signal\n",
    "    signal_MLII=signal[:,0]\n",
    "    for i, i_sample in enumerate(ann_sample):\n",
    "        label_dec=classify(ann_symbol[i])\n",
    "        segmentation=segment(signal_MLII, i_sample)\n",
    "        if label_dec==1 and len(segmentation)==360:\n",
    "            all_signals.append(segmentation)\n",
    "            all_labels.append(ann_symbol[i])\n"
   ]
  },
  {
   "cell_type": "code",
   "execution_count": 9,
   "id": "e909853f",
   "metadata": {},
   "outputs": [],
   "source": [
    "# vstack Stacks arrays in sequence vertically (row wise).\n",
    "all_signals_fin=np.vstack(all_signals)"
   ]
  },
  {
   "cell_type": "code",
   "execution_count": 10,
   "id": "5b3d5572",
   "metadata": {},
   "outputs": [
    {
     "name": "stdout",
     "output_type": "stream",
     "text": [
      "(107141, 360)\n"
     ]
    }
   ],
   "source": [
    "print(all_signals_fin.shape)"
   ]
  },
  {
   "cell_type": "markdown",
   "id": "f0efd812",
   "metadata": {},
   "source": [
    "## Visualizing Segmentated Data"
   ]
  },
  {
   "cell_type": "code",
   "execution_count": 11,
   "id": "865d1c68",
   "metadata": {},
   "outputs": [],
   "source": [
    "labels_fin=pd.Series(all_labels)"
   ]
  },
  {
   "cell_type": "markdown",
   "id": "a3f2230c",
   "metadata": {},
   "source": [
    "## Check distribution of types of data"
   ]
  },
  {
   "cell_type": "code",
   "execution_count": 12,
   "id": "b412d551",
   "metadata": {},
   "outputs": [
    {
     "data": {
      "text/plain": [
       "N    75011\n",
       "L     8071\n",
       "R     7255\n",
       "V     7129\n",
       "/     7023\n",
       "A     2546\n",
       "E      106\n",
       "dtype: int64"
      ]
     },
     "execution_count": 12,
     "metadata": {},
     "output_type": "execute_result"
    }
   ],
   "source": [
    "labels_fin.value_counts()"
   ]
  },
  {
   "cell_type": "markdown",
   "id": "4ed0ac88",
   "metadata": {},
   "source": [
    "## Resampling"
   ]
  },
  {
   "cell_type": "code",
   "execution_count": 13,
   "id": "9ea51794",
   "metadata": {},
   "outputs": [],
   "source": [
    "len(all_signals_fin)\n",
    "labels_array=np.array(all_labels)"
   ]
  },
  {
   "cell_type": "code",
   "execution_count": 14,
   "id": "4f5d7334",
   "metadata": {},
   "outputs": [
    {
     "name": "stdout",
     "output_type": "stream",
     "text": [
      "7023\n",
      "['/' '/' '/' ... '/' '/' '/']\n"
     ]
    },
    {
     "data": {
      "text/plain": [
       "7023"
      ]
     },
     "execution_count": 14,
     "metadata": {},
     "output_type": "execute_result"
    }
   ],
   "source": [
    "df_0=all_signals_fin[labels_fin=='/']\n",
    "df_1=all_signals_fin[labels_fin=='A']\n",
    "df_2=all_signals_fin[labels_fin=='E']\n",
    "df_3=all_signals_fin[labels_fin=='L']\n",
    "df_4=all_signals_fin[labels_fin=='N']\n",
    "df_5=all_signals_fin[labels_fin=='R']\n",
    "df_6=all_signals_fin[labels_fin=='V']\n",
    "y_df0=labels_array[labels_fin=='/']\n",
    "print(len(df_0))\n",
    "print(y_df0)\n",
    "len(y_df0)"
   ]
  },
  {
   "cell_type": "code",
   "execution_count": 15,
   "id": "1ccc2673",
   "metadata": {},
   "outputs": [],
   "source": [
    "from sklearn.utils import resample"
   ]
  },
  {
   "cell_type": "code",
   "execution_count": 16,
   "id": "dd6c824e",
   "metadata": {},
   "outputs": [],
   "source": [
    "df0_sampled=resample(df_0, replace=True, n_samples=20000, random_state=42)\n",
    "df1_sampled=resample(df_1, replace=True, n_samples=20000, random_state=42)\n",
    "df2_sampled=resample(df_2, replace=True, n_samples=20000, random_state=42)\n",
    "df3_sampled=resample(df_3, replace=True, n_samples=20000, random_state=42)\n",
    "df4_sampled=resample(df_4, replace=True, n_samples=20000, random_state=42)\n",
    "df5_sampled=resample(df_5, replace=True, n_samples=20000, random_state=42)\n",
    "df6_sampled=resample(df_6, replace=True, n_samples=20000, random_state=42)\n"
   ]
  },
  {
   "cell_type": "code",
   "execution_count": 17,
   "id": "fe60a220",
   "metadata": {},
   "outputs": [],
   "source": [
    "y_0=['/']*len(df0_sampled)\n",
    "y_1=['A']*len(df1_sampled)\n",
    "y_2=['E']*len(df2_sampled)\n",
    "y_3=['L']*len(df3_sampled)\n",
    "y_4=['N']*len(df4_sampled)\n",
    "y_5=['R']*len(df5_sampled)\n",
    "y_6=['V']*len(df6_sampled)\n",
    "    "
   ]
  },
  {
   "cell_type": "code",
   "execution_count": 18,
   "id": "7727b198",
   "metadata": {},
   "outputs": [],
   "source": [
    "X_final=[]\n",
    "X_final.extend(df0_sampled)\n",
    "X_final.extend(df1_sampled)\n",
    "X_final.extend(df2_sampled)\n",
    "X_final.extend(df3_sampled)\n",
    "X_final.extend(df4_sampled)\n",
    "X_final.extend(df5_sampled)\n",
    "X_final.extend(df6_sampled)"
   ]
  },
  {
   "cell_type": "code",
   "execution_count": 19,
   "id": "26422851",
   "metadata": {},
   "outputs": [],
   "source": [
    "y_final=[]\n",
    "y_final.extend(y_0)\n",
    "y_final.extend(y_1)\n",
    "y_final.extend(y_2)\n",
    "y_final.extend(y_3)\n",
    "y_final.extend(y_4)\n",
    "y_final.extend(y_5)\n",
    "y_final.extend(y_6)"
   ]
  },
  {
   "cell_type": "markdown",
   "id": "e77b8ef7",
   "metadata": {},
   "source": [
    "## Standarization of the data"
   ]
  },
  {
   "cell_type": "code",
   "execution_count": 20,
   "id": "c68fa330",
   "metadata": {},
   "outputs": [],
   "source": [
    "from sklearn.preprocessing import StandardScaler\n",
    "scaler=StandardScaler()"
   ]
  },
  {
   "cell_type": "code",
   "execution_count": 21,
   "id": "3600ed59",
   "metadata": {},
   "outputs": [],
   "source": [
    "scaled=scaler.fit_transform(X_final)"
   ]
  },
  {
   "cell_type": "code",
   "execution_count": 22,
   "id": "212e0a6e",
   "metadata": {},
   "outputs": [],
   "source": [
    "def check_strat(y):\n",
    "    dummy = pd.DataFrame(y,columns=[\"Labels\"])\n",
    "    print(\"Value distribution:\\n\")\n",
    "    count = dummy[\"Labels\"].value_counts()\n",
    "    percent = dummy[\"Labels\"].value_counts(normalize=True).mul(100).round(2)\n",
    "    print(pd.concat([count,percent],axis=1,keys=[\"Counts\",\"Percent\"]))"
   ]
  },
  {
   "cell_type": "markdown",
   "id": "52444d91",
   "metadata": {},
   "source": [
    "## Splitting Data into Train and Test Set"
   ]
  },
  {
   "cell_type": "code",
   "execution_count": 23,
   "id": "6ef17a6a",
   "metadata": {},
   "outputs": [],
   "source": [
    "from sklearn.model_selection import StratifiedShuffleSplit\n",
    "strad=StratifiedShuffleSplit()"
   ]
  },
  {
   "cell_type": "code",
   "execution_count": 24,
   "id": "7baf952c",
   "metadata": {},
   "outputs": [],
   "source": [
    "assin_strad=strad.split(scaled, y_final)"
   ]
  },
  {
   "cell_type": "code",
   "execution_count": 25,
   "id": "1a030a6e",
   "metadata": {},
   "outputs": [],
   "source": [
    "train_index, test_index=next(assin_strad)"
   ]
  },
  {
   "cell_type": "code",
   "execution_count": 26,
   "id": "9bb5f863",
   "metadata": {},
   "outputs": [],
   "source": [
    "train_data_scaled=scaled[train_index]"
   ]
  },
  {
   "cell_type": "code",
   "execution_count": 27,
   "id": "c6fc760e",
   "metadata": {},
   "outputs": [],
   "source": [
    "from sklearn.preprocessing import LabelEncoder\n",
    "lab=LabelEncoder()"
   ]
  },
  {
   "cell_type": "code",
   "execution_count": 28,
   "id": "7828e06e",
   "metadata": {},
   "outputs": [],
   "source": [
    "labels_final=lab.fit_transform(y_final)"
   ]
  },
  {
   "cell_type": "code",
   "execution_count": 29,
   "id": "1cb7daa4",
   "metadata": {},
   "outputs": [
    {
     "data": {
      "text/plain": [
       "array(['/', 'A', 'E', 'L', 'N', 'R', 'V'], dtype='<U1')"
      ]
     },
     "execution_count": 29,
     "metadata": {},
     "output_type": "execute_result"
    }
   ],
   "source": [
    "lab.classes_"
   ]
  },
  {
   "cell_type": "code",
   "execution_count": 30,
   "id": "05c1cf12",
   "metadata": {},
   "outputs": [],
   "source": [
    "train_label=labels_final[train_index]"
   ]
  },
  {
   "cell_type": "code",
   "execution_count": 31,
   "id": "6141db95",
   "metadata": {},
   "outputs": [],
   "source": [
    "test_data_scaled=scaled[test_index]"
   ]
  },
  {
   "cell_type": "code",
   "execution_count": 32,
   "id": "f7aa83b8",
   "metadata": {},
   "outputs": [],
   "source": [
    "test_labels=labels_final[test_index]"
   ]
  },
  {
   "cell_type": "code",
   "execution_count": 33,
   "id": "ddf91a0b",
   "metadata": {},
   "outputs": [
    {
     "name": "stdout",
     "output_type": "stream",
     "text": [
      "Value distribution:\n",
      "\n",
      "   Counts  Percent\n",
      "0    2000    14.29\n",
      "1    2000    14.29\n",
      "2    2000    14.29\n",
      "3    2000    14.29\n",
      "4    2000    14.29\n",
      "5    2000    14.29\n",
      "6    2000    14.29\n"
     ]
    }
   ],
   "source": [
    "check_strat(test_labels)"
   ]
  },
  {
   "cell_type": "code",
   "execution_count": 34,
   "id": "48d83487",
   "metadata": {},
   "outputs": [
    {
     "name": "stdout",
     "output_type": "stream",
     "text": [
      "Value distribution:\n",
      "\n",
      "   Counts  Percent\n",
      "0   18000    14.29\n",
      "1   18000    14.29\n",
      "2   18000    14.29\n",
      "3   18000    14.29\n",
      "4   18000    14.29\n",
      "5   18000    14.29\n",
      "6   18000    14.29\n"
     ]
    }
   ],
   "source": [
    "check_strat(train_label)"
   ]
  }
 ],
 "metadata": {
  "kernelspec": {
   "display_name": "Python 3 (ipykernel)",
   "language": "python",
   "name": "python3"
  },
  "language_info": {
   "codemirror_mode": {
    "name": "ipython",
    "version": 3
   },
   "file_extension": ".py",
   "mimetype": "text/x-python",
   "name": "python",
   "nbconvert_exporter": "python",
   "pygments_lexer": "ipython3",
   "version": "3.8.10"
  }
 },
 "nbformat": 4,
 "nbformat_minor": 5
}
